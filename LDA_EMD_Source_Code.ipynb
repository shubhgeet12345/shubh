{
  "cells": [
    {
      "cell_type": "markdown",
      "metadata": {
        "id": "view-in-github",
        "colab_type": "text"
      },
      "source": [
        "<a href=\"https://colab.research.google.com/github/shubhgeet12345/shubh/blob/main/Untitled0.ipynb\" target=\"_parent\"><img src=\"https://colab.research.google.com/assets/colab-badge.svg\" alt=\"Open In Colab\"/></a>"
      ]
    },
    {
      "cell_type": "code",
      "execution_count": null,
      "metadata": {
        "id": "xtsTkMHNs5pp"
      },
      "outputs": [],
      "source": [
        "from google.colab import drive\n",
        "drive.mount('/content/drive')"
      ]
    },
    {
      "cell_type": "code",
      "execution_count": null,
      "metadata": {
        "colab": {
          "base_uri": "https://localhost:8080/"
        },
        "id": "vveRCM49s9tq",
        "outputId": "98912bc4-f105-49d3-9e69-28031400b9b5"
      },
      "outputs": [
        {
          "output_type": "stream",
          "name": "stdout",
          "text": [
            "Requirement already satisfied: tensorflow in /usr/local/lib/python3.10/dist-packages (2.17.1)\n",
            "Requirement already satisfied: absl-py>=1.0.0 in /usr/local/lib/python3.10/dist-packages (from tensorflow) (1.4.0)\n",
            "Requirement already satisfied: astunparse>=1.6.0 in /usr/local/lib/python3.10/dist-packages (from tensorflow) (1.6.3)\n",
            "Requirement already satisfied: flatbuffers>=24.3.25 in /usr/local/lib/python3.10/dist-packages (from tensorflow) (24.3.25)\n",
            "Requirement already satisfied: gast!=0.5.0,!=0.5.1,!=0.5.2,>=0.2.1 in /usr/local/lib/python3.10/dist-packages (from tensorflow) (0.6.0)\n",
            "Requirement already satisfied: google-pasta>=0.1.1 in /usr/local/lib/python3.10/dist-packages (from tensorflow) (0.2.0)\n",
            "Requirement already satisfied: h5py>=3.10.0 in /usr/local/lib/python3.10/dist-packages (from tensorflow) (3.12.1)\n",
            "Requirement already satisfied: libclang>=13.0.0 in /usr/local/lib/python3.10/dist-packages (from tensorflow) (18.1.1)\n",
            "Requirement already satisfied: ml-dtypes<0.5.0,>=0.3.1 in /usr/local/lib/python3.10/dist-packages (from tensorflow) (0.4.1)\n",
            "Requirement already satisfied: opt-einsum>=2.3.2 in /usr/local/lib/python3.10/dist-packages (from tensorflow) (3.4.0)\n",
            "Requirement already satisfied: packaging in /usr/local/lib/python3.10/dist-packages (from tensorflow) (24.2)\n",
            "Requirement already satisfied: protobuf!=4.21.0,!=4.21.1,!=4.21.2,!=4.21.3,!=4.21.4,!=4.21.5,<5.0.0dev,>=3.20.3 in /usr/local/lib/python3.10/dist-packages (from tensorflow) (4.25.5)\n",
            "Requirement already satisfied: requests<3,>=2.21.0 in /usr/local/lib/python3.10/dist-packages (from tensorflow) (2.32.3)\n",
            "Requirement already satisfied: setuptools in /usr/local/lib/python3.10/dist-packages (from tensorflow) (75.1.0)\n",
            "Requirement already satisfied: six>=1.12.0 in /usr/local/lib/python3.10/dist-packages (from tensorflow) (1.16.0)\n",
            "Requirement already satisfied: termcolor>=1.1.0 in /usr/local/lib/python3.10/dist-packages (from tensorflow) (2.5.0)\n",
            "Requirement already satisfied: typing-extensions>=3.6.6 in /usr/local/lib/python3.10/dist-packages (from tensorflow) (4.12.2)\n",
            "Requirement already satisfied: wrapt>=1.11.0 in /usr/local/lib/python3.10/dist-packages (from tensorflow) (1.16.0)\n",
            "Requirement already satisfied: grpcio<2.0,>=1.24.3 in /usr/local/lib/python3.10/dist-packages (from tensorflow) (1.68.0)\n",
            "Requirement already satisfied: tensorboard<2.18,>=2.17 in /usr/local/lib/python3.10/dist-packages (from tensorflow) (2.17.1)\n",
            "Requirement already satisfied: keras>=3.2.0 in /usr/local/lib/python3.10/dist-packages (from tensorflow) (3.5.0)\n",
            "Requirement already satisfied: tensorflow-io-gcs-filesystem>=0.23.1 in /usr/local/lib/python3.10/dist-packages (from tensorflow) (0.37.1)\n",
            "Requirement already satisfied: numpy<2.0.0,>=1.23.5 in /usr/local/lib/python3.10/dist-packages (from tensorflow) (1.26.4)\n",
            "Requirement already satisfied: wheel<1.0,>=0.23.0 in /usr/local/lib/python3.10/dist-packages (from astunparse>=1.6.0->tensorflow) (0.45.0)\n",
            "Requirement already satisfied: rich in /usr/local/lib/python3.10/dist-packages (from keras>=3.2.0->tensorflow) (13.9.4)\n",
            "Requirement already satisfied: namex in /usr/local/lib/python3.10/dist-packages (from keras>=3.2.0->tensorflow) (0.0.8)\n",
            "Requirement already satisfied: optree in /usr/local/lib/python3.10/dist-packages (from keras>=3.2.0->tensorflow) (0.13.1)\n",
            "Requirement already satisfied: charset-normalizer<4,>=2 in /usr/local/lib/python3.10/dist-packages (from requests<3,>=2.21.0->tensorflow) (3.4.0)\n",
            "Requirement already satisfied: idna<4,>=2.5 in /usr/local/lib/python3.10/dist-packages (from requests<3,>=2.21.0->tensorflow) (3.10)\n",
            "Requirement already satisfied: urllib3<3,>=1.21.1 in /usr/local/lib/python3.10/dist-packages (from requests<3,>=2.21.0->tensorflow) (2.2.3)\n",
            "Requirement already satisfied: certifi>=2017.4.17 in /usr/local/lib/python3.10/dist-packages (from requests<3,>=2.21.0->tensorflow) (2024.8.30)\n",
            "Requirement already satisfied: markdown>=2.6.8 in /usr/local/lib/python3.10/dist-packages (from tensorboard<2.18,>=2.17->tensorflow) (3.7)\n",
            "Requirement already satisfied: tensorboard-data-server<0.8.0,>=0.7.0 in /usr/local/lib/python3.10/dist-packages (from tensorboard<2.18,>=2.17->tensorflow) (0.7.2)\n",
            "Requirement already satisfied: werkzeug>=1.0.1 in /usr/local/lib/python3.10/dist-packages (from tensorboard<2.18,>=2.17->tensorflow) (3.1.3)\n",
            "Requirement already satisfied: MarkupSafe>=2.1.1 in /usr/local/lib/python3.10/dist-packages (from werkzeug>=1.0.1->tensorboard<2.18,>=2.17->tensorflow) (3.0.2)\n",
            "Requirement already satisfied: markdown-it-py>=2.2.0 in /usr/local/lib/python3.10/dist-packages (from rich->keras>=3.2.0->tensorflow) (3.0.0)\n",
            "Requirement already satisfied: pygments<3.0.0,>=2.13.0 in /usr/local/lib/python3.10/dist-packages (from rich->keras>=3.2.0->tensorflow) (2.18.0)\n",
            "Requirement already satisfied: mdurl~=0.1 in /usr/local/lib/python3.10/dist-packages (from markdown-it-py>=2.2.0->rich->keras>=3.2.0->tensorflow) (0.1.2)\n",
            "Requirement already satisfied: numpy in /usr/local/lib/python3.10/dist-packages (1.26.4)\n",
            "Requirement already satisfied: scikit-learn in /usr/local/lib/python3.10/dist-packages (1.5.2)\n",
            "Requirement already satisfied: numpy>=1.19.5 in /usr/local/lib/python3.10/dist-packages (from scikit-learn) (1.26.4)\n",
            "Requirement already satisfied: scipy>=1.6.0 in /usr/local/lib/python3.10/dist-packages (from scikit-learn) (1.13.1)\n",
            "Requirement already satisfied: joblib>=1.2.0 in /usr/local/lib/python3.10/dist-packages (from scikit-learn) (1.4.2)\n",
            "Requirement already satisfied: threadpoolctl>=3.1.0 in /usr/local/lib/python3.10/dist-packages (from scikit-learn) (3.5.0)\n"
          ]
        }
      ],
      "source": [
        "!pip install tensorflow\n",
        "!pip install numpy\n",
        "!pip install scikit-learn\n"
      ]
    },
    {
      "cell_type": "code",
      "execution_count": null,
      "metadata": {
        "id": "JxmWJKqtto_d",
        "colab": {
          "base_uri": "https://localhost:8080/",
          "height": 356
        },
        "outputId": "ba54c9f6-628e-4b1d-cc6a-fa60546fd671"
      },
      "outputs": [
        {
          "output_type": "error",
          "ename": "FileNotFoundError",
          "evalue": "[Errno 2] No such file or directory: '/content/drive/MyDrive/DataSet/amazon.csv'",
          "traceback": [
            "\u001b[0;31m---------------------------------------------------------------------------\u001b[0m",
            "\u001b[0;31mFileNotFoundError\u001b[0m                         Traceback (most recent call last)",
            "\u001b[0;32m<ipython-input-2-e34b2244caa7>\u001b[0m in \u001b[0;36m<cell line: 10>\u001b[0;34m()\u001b[0m\n\u001b[1;32m      8\u001b[0m \u001b[0;31m# Load the data\u001b[0m\u001b[0;34m\u001b[0m\u001b[0;34m\u001b[0m\u001b[0m\n\u001b[1;32m      9\u001b[0m \u001b[0mpath\u001b[0m \u001b[0;34m=\u001b[0m \u001b[0;34m\"/content/drive/MyDrive/DataSet/amazon.csv\"\u001b[0m\u001b[0;34m\u001b[0m\u001b[0;34m\u001b[0m\u001b[0m\n\u001b[0;32m---> 10\u001b[0;31m \u001b[0mdf\u001b[0m \u001b[0;34m=\u001b[0m \u001b[0mpd\u001b[0m\u001b[0;34m.\u001b[0m\u001b[0mread_csv\u001b[0m\u001b[0;34m(\u001b[0m\u001b[0mpath\u001b[0m\u001b[0;34m)\u001b[0m\u001b[0;34m\u001b[0m\u001b[0;34m\u001b[0m\u001b[0m\n\u001b[0m\u001b[1;32m     11\u001b[0m \u001b[0mdf\u001b[0m\u001b[0;34m.\u001b[0m\u001b[0mdrop\u001b[0m\u001b[0;34m(\u001b[0m\u001b[0mcolumns\u001b[0m\u001b[0;34m=\u001b[0m\u001b[0;34m[\u001b[0m\u001b[0;34m\"Unnamed: 0\"\u001b[0m\u001b[0;34m]\u001b[0m\u001b[0;34m,\u001b[0m \u001b[0minplace\u001b[0m\u001b[0;34m=\u001b[0m\u001b[0;32mTrue\u001b[0m\u001b[0;34m,\u001b[0m \u001b[0merrors\u001b[0m\u001b[0;34m=\u001b[0m\u001b[0;34m'ignore'\u001b[0m\u001b[0;34m)\u001b[0m\u001b[0;34m\u001b[0m\u001b[0;34m\u001b[0m\u001b[0m\n\u001b[1;32m     12\u001b[0m \u001b[0;34m\u001b[0m\u001b[0m\n",
            "\u001b[0;32m/usr/local/lib/python3.10/dist-packages/pandas/io/parsers/readers.py\u001b[0m in \u001b[0;36mread_csv\u001b[0;34m(filepath_or_buffer, sep, delimiter, header, names, index_col, usecols, dtype, engine, converters, true_values, false_values, skipinitialspace, skiprows, skipfooter, nrows, na_values, keep_default_na, na_filter, verbose, skip_blank_lines, parse_dates, infer_datetime_format, keep_date_col, date_parser, date_format, dayfirst, cache_dates, iterator, chunksize, compression, thousands, decimal, lineterminator, quotechar, quoting, doublequote, escapechar, comment, encoding, encoding_errors, dialect, on_bad_lines, delim_whitespace, low_memory, memory_map, float_precision, storage_options, dtype_backend)\u001b[0m\n\u001b[1;32m   1024\u001b[0m     \u001b[0mkwds\u001b[0m\u001b[0;34m.\u001b[0m\u001b[0mupdate\u001b[0m\u001b[0;34m(\u001b[0m\u001b[0mkwds_defaults\u001b[0m\u001b[0;34m)\u001b[0m\u001b[0;34m\u001b[0m\u001b[0;34m\u001b[0m\u001b[0m\n\u001b[1;32m   1025\u001b[0m \u001b[0;34m\u001b[0m\u001b[0m\n\u001b[0;32m-> 1026\u001b[0;31m     \u001b[0;32mreturn\u001b[0m \u001b[0m_read\u001b[0m\u001b[0;34m(\u001b[0m\u001b[0mfilepath_or_buffer\u001b[0m\u001b[0;34m,\u001b[0m \u001b[0mkwds\u001b[0m\u001b[0;34m)\u001b[0m\u001b[0;34m\u001b[0m\u001b[0;34m\u001b[0m\u001b[0m\n\u001b[0m\u001b[1;32m   1027\u001b[0m \u001b[0;34m\u001b[0m\u001b[0m\n\u001b[1;32m   1028\u001b[0m \u001b[0;34m\u001b[0m\u001b[0m\n",
            "\u001b[0;32m/usr/local/lib/python3.10/dist-packages/pandas/io/parsers/readers.py\u001b[0m in \u001b[0;36m_read\u001b[0;34m(filepath_or_buffer, kwds)\u001b[0m\n\u001b[1;32m    618\u001b[0m \u001b[0;34m\u001b[0m\u001b[0m\n\u001b[1;32m    619\u001b[0m     \u001b[0;31m# Create the parser.\u001b[0m\u001b[0;34m\u001b[0m\u001b[0;34m\u001b[0m\u001b[0m\n\u001b[0;32m--> 620\u001b[0;31m     \u001b[0mparser\u001b[0m \u001b[0;34m=\u001b[0m \u001b[0mTextFileReader\u001b[0m\u001b[0;34m(\u001b[0m\u001b[0mfilepath_or_buffer\u001b[0m\u001b[0;34m,\u001b[0m \u001b[0;34m**\u001b[0m\u001b[0mkwds\u001b[0m\u001b[0;34m)\u001b[0m\u001b[0;34m\u001b[0m\u001b[0;34m\u001b[0m\u001b[0m\n\u001b[0m\u001b[1;32m    621\u001b[0m \u001b[0;34m\u001b[0m\u001b[0m\n\u001b[1;32m    622\u001b[0m     \u001b[0;32mif\u001b[0m \u001b[0mchunksize\u001b[0m \u001b[0;32mor\u001b[0m \u001b[0miterator\u001b[0m\u001b[0;34m:\u001b[0m\u001b[0;34m\u001b[0m\u001b[0;34m\u001b[0m\u001b[0m\n",
            "\u001b[0;32m/usr/local/lib/python3.10/dist-packages/pandas/io/parsers/readers.py\u001b[0m in \u001b[0;36m__init__\u001b[0;34m(self, f, engine, **kwds)\u001b[0m\n\u001b[1;32m   1618\u001b[0m \u001b[0;34m\u001b[0m\u001b[0m\n\u001b[1;32m   1619\u001b[0m         \u001b[0mself\u001b[0m\u001b[0;34m.\u001b[0m\u001b[0mhandles\u001b[0m\u001b[0;34m:\u001b[0m \u001b[0mIOHandles\u001b[0m \u001b[0;34m|\u001b[0m \u001b[0;32mNone\u001b[0m \u001b[0;34m=\u001b[0m \u001b[0;32mNone\u001b[0m\u001b[0;34m\u001b[0m\u001b[0;34m\u001b[0m\u001b[0m\n\u001b[0;32m-> 1620\u001b[0;31m         \u001b[0mself\u001b[0m\u001b[0;34m.\u001b[0m\u001b[0m_engine\u001b[0m \u001b[0;34m=\u001b[0m \u001b[0mself\u001b[0m\u001b[0;34m.\u001b[0m\u001b[0m_make_engine\u001b[0m\u001b[0;34m(\u001b[0m\u001b[0mf\u001b[0m\u001b[0;34m,\u001b[0m \u001b[0mself\u001b[0m\u001b[0;34m.\u001b[0m\u001b[0mengine\u001b[0m\u001b[0;34m)\u001b[0m\u001b[0;34m\u001b[0m\u001b[0;34m\u001b[0m\u001b[0m\n\u001b[0m\u001b[1;32m   1621\u001b[0m \u001b[0;34m\u001b[0m\u001b[0m\n\u001b[1;32m   1622\u001b[0m     \u001b[0;32mdef\u001b[0m \u001b[0mclose\u001b[0m\u001b[0;34m(\u001b[0m\u001b[0mself\u001b[0m\u001b[0;34m)\u001b[0m \u001b[0;34m->\u001b[0m \u001b[0;32mNone\u001b[0m\u001b[0;34m:\u001b[0m\u001b[0;34m\u001b[0m\u001b[0;34m\u001b[0m\u001b[0m\n",
            "\u001b[0;32m/usr/local/lib/python3.10/dist-packages/pandas/io/parsers/readers.py\u001b[0m in \u001b[0;36m_make_engine\u001b[0;34m(self, f, engine)\u001b[0m\n\u001b[1;32m   1878\u001b[0m                 \u001b[0;32mif\u001b[0m \u001b[0;34m\"b\"\u001b[0m \u001b[0;32mnot\u001b[0m \u001b[0;32min\u001b[0m \u001b[0mmode\u001b[0m\u001b[0;34m:\u001b[0m\u001b[0;34m\u001b[0m\u001b[0;34m\u001b[0m\u001b[0m\n\u001b[1;32m   1879\u001b[0m                     \u001b[0mmode\u001b[0m \u001b[0;34m+=\u001b[0m \u001b[0;34m\"b\"\u001b[0m\u001b[0;34m\u001b[0m\u001b[0;34m\u001b[0m\u001b[0m\n\u001b[0;32m-> 1880\u001b[0;31m             self.handles = get_handle(\n\u001b[0m\u001b[1;32m   1881\u001b[0m                 \u001b[0mf\u001b[0m\u001b[0;34m,\u001b[0m\u001b[0;34m\u001b[0m\u001b[0;34m\u001b[0m\u001b[0m\n\u001b[1;32m   1882\u001b[0m                 \u001b[0mmode\u001b[0m\u001b[0;34m,\u001b[0m\u001b[0;34m\u001b[0m\u001b[0;34m\u001b[0m\u001b[0m\n",
            "\u001b[0;32m/usr/local/lib/python3.10/dist-packages/pandas/io/common.py\u001b[0m in \u001b[0;36mget_handle\u001b[0;34m(path_or_buf, mode, encoding, compression, memory_map, is_text, errors, storage_options)\u001b[0m\n\u001b[1;32m    871\u001b[0m         \u001b[0;32mif\u001b[0m \u001b[0mioargs\u001b[0m\u001b[0;34m.\u001b[0m\u001b[0mencoding\u001b[0m \u001b[0;32mand\u001b[0m \u001b[0;34m\"b\"\u001b[0m \u001b[0;32mnot\u001b[0m \u001b[0;32min\u001b[0m \u001b[0mioargs\u001b[0m\u001b[0;34m.\u001b[0m\u001b[0mmode\u001b[0m\u001b[0;34m:\u001b[0m\u001b[0;34m\u001b[0m\u001b[0;34m\u001b[0m\u001b[0m\n\u001b[1;32m    872\u001b[0m             \u001b[0;31m# Encoding\u001b[0m\u001b[0;34m\u001b[0m\u001b[0;34m\u001b[0m\u001b[0m\n\u001b[0;32m--> 873\u001b[0;31m             handle = open(\n\u001b[0m\u001b[1;32m    874\u001b[0m                 \u001b[0mhandle\u001b[0m\u001b[0;34m,\u001b[0m\u001b[0;34m\u001b[0m\u001b[0;34m\u001b[0m\u001b[0m\n\u001b[1;32m    875\u001b[0m                 \u001b[0mioargs\u001b[0m\u001b[0;34m.\u001b[0m\u001b[0mmode\u001b[0m\u001b[0;34m,\u001b[0m\u001b[0;34m\u001b[0m\u001b[0;34m\u001b[0m\u001b[0m\n",
            "\u001b[0;31mFileNotFoundError\u001b[0m: [Errno 2] No such file or directory: '/content/drive/MyDrive/DataSet/amazon.csv'"
          ]
        }
      ],
      "source": [
        "import pandas as pd\n",
        "import tensorflow as tf\n",
        "import numpy as np\n",
        "from sklearn.feature_extraction.text import CountVectorizer\n",
        "from sklearn.model_selection import train_test_split\n",
        "from sklearn.preprocessing import normalize\n",
        "\n",
        "# Load the data\n",
        "path = \"/content/drive/MyDrive/DataSet/amazon.csv\"\n",
        "df = pd.read_csv(path)\n",
        "df.drop(columns=[\"Unnamed: 0\"], inplace=True, errors='ignore')\n",
        "\n",
        "# Preprocess the text data\n",
        "text_data = df['about_product'].fillna('').astype(str)\n",
        "\n",
        "# Tokenize and vectorize the text\n",
        "vectorizer = CountVectorizer(max_features=5000, max_df=0.95, min_df=2, stop_words='english')\n",
        "X = vectorizer.fit_transform(text_data).toarray()\n",
        "X = normalize(X, norm='l1', axis=1)\n",
        "\n",
        "# Split the data into training and validation sets\n",
        "X_train, X_val = train_test_split(X, test_size=0.2, random_state=42)\n"
      ]
    },
    {
      "cell_type": "code",
      "execution_count": null,
      "metadata": {
        "colab": {
          "base_uri": "https://localhost:8080/"
        },
        "id": "xBOBAZQsus5l",
        "outputId": "4c6baa9d-d67e-42ce-85d1-e44dd4851815"
      },
      "outputs": [
        {
          "name": "stdout",
          "output_type": "stream",
          "text": [
            "\n",
            "Training with learning rate: 0.01\n",
            "Epoch 1, Loss: 0.6895111799240112\n",
            "Epoch 2, Loss: 0.6895111799240112\n",
            "Epoch 3, Loss: 0.6895111799240112\n",
            "Epoch 4, Loss: 0.6895111799240112\n",
            "Epoch 5, Loss: 0.6895111799240112\n",
            "Epoch 6, Loss: 0.6895111799240112\n",
            "Epoch 7, Loss: 0.6895111799240112\n",
            "Epoch 8, Loss: 0.6895111799240112\n",
            "Epoch 9, Loss: 0.6895111799240112\n",
            "Epoch 10, Loss: 0.6895111799240112\n",
            "Validation Loss: 0.6903830170631409\n",
            "\n",
            "Training with learning rate: 0.001\n",
            "Epoch 1, Loss: 0.6895111799240112\n",
            "Epoch 2, Loss: 0.6895111799240112\n",
            "Epoch 3, Loss: 0.6895111799240112\n",
            "Epoch 4, Loss: 0.6895111799240112\n",
            "Epoch 5, Loss: 0.6895111799240112\n",
            "Epoch 6, Loss: 0.6895111799240112\n",
            "Epoch 7, Loss: 0.6895111799240112\n",
            "Epoch 8, Loss: 0.6895111799240112\n",
            "Epoch 9, Loss: 0.6895111799240112\n",
            "Epoch 10, Loss: 0.6895111799240112\n",
            "Validation Loss: 0.6903830170631409\n",
            "\n",
            "Training with learning rate: 0.0001\n",
            "Epoch 1, Loss: 0.6895111799240112\n",
            "Epoch 2, Loss: 0.6895111799240112\n",
            "Epoch 3, Loss: 0.6895111799240112\n",
            "Epoch 4, Loss: 0.6895111799240112\n",
            "Epoch 5, Loss: 0.6895111799240112\n",
            "Epoch 6, Loss: 0.6895111799240112\n",
            "Epoch 7, Loss: 0.6895111799240112\n",
            "Epoch 8, Loss: 0.6895111799240112\n",
            "Epoch 9, Loss: 0.6895111799240112\n",
            "Epoch 10, Loss: 0.6895111799240112\n",
            "Validation Loss: 0.6903830170631409\n",
            "\n",
            "Best learning rate: 0.01 with validation loss: 0.6903830170631409\n"
          ]
        }
      ],
      "source": [
        "class LDA(tf.keras.Model):\n",
        "    def __init__(self, num_topics, vocab_size):\n",
        "        super(LDA, self).__init__()\n",
        "        self.num_topics = num_topics\n",
        "        self.vocab_size = vocab_size\n",
        "        self.topic_word_dist = tf.Variable(\n",
        "            tf.random.uniform([num_topics, vocab_size], 0, 1), trainable=True\n",
        "        )\n",
        "\n",
        "    def call(self, inputs):\n",
        "        doc_topic_dist = tf.nn.softmax(inputs @ tf.transpose(self.topic_word_dist))\n",
        "        return doc_topic_dist\n",
        "\n",
        "num_topics = 100\n",
        "vocab_size = X.shape[1]\n",
        "\n",
        "model = LDA(num_topics, vocab_size)\n",
        "\n",
        "def loss_fn(model, inputs):\n",
        "    doc_topic_dist = model(inputs)\n",
        "    # Add a small epsilon for numerical stability\n",
        "    log_perplexity = -tf.reduce_mean(\n",
        "        tf.reduce_sum(inputs * tf.math.log(tf.matmul(doc_topic_dist, model.topic_word_dist) + 1e-10), axis=1)\n",
        "    )\n",
        "    return log_perplexity\n",
        "\n",
        "def train_step(model, inputs, optimizer):\n",
        "    with tf.GradientTape() as tape:\n",
        "        loss = loss_fn(model, inputs)\n",
        "    gradients = tape.gradient(loss, model.trainable_variables)\n",
        "    if gradients: # Check if gradients are calculated\n",
        "        optimizer.apply_gradients(zip(gradients, model.trainable_variables))\n",
        "    return loss\n",
        "\n",
        "# Training loop\n",
        "num_epochs = 10\n",
        "batch_size = 64\n",
        "\n",
        "def train_model(learning_rate):\n",
        "    optimizer = tf.keras.optimizers.Adam(learning_rate=learning_rate)\n",
        "    for epoch in range(num_epochs):\n",
        "        for i in range(0, X_train.shape[0], batch_size):\n",
        "            X_batch = X_train[i:i + batch_size]\n",
        "            loss = train_step(model, X_batch, optimizer)\n",
        "        print(f'Epoch {epoch + 1}, Loss: {loss.numpy()}')\n",
        "\n",
        "    # Evaluate on validation set\n",
        "    val_loss = loss_fn(model, X_val)\n",
        "    print(f'Validation Loss: {val_loss.numpy()}')\n",
        "    return val_loss.numpy()\n",
        "\n",
        "# Train and evaluate with different learning rates\n",
        "learning_rates = [0.01, 0.001, 0.0001]\n",
        "best_val_loss = float('inf')\n",
        "best_lr = None\n",
        "\n",
        "for lr in learning_rates:\n",
        "    print(f\"\\nTraining with learning rate: {lr}\")\n",
        "    val_loss = train_model(lr)\n",
        "    if val_loss < best_val_loss:\n",
        "        best_val_loss = val_loss\n",
        "        best_lr = lr\n",
        "\n",
        "print(f\"\\nBest learning rate: {best_lr} with validation loss: {best_val_loss}\")\n"
      ]
    },
    {
      "cell_type": "markdown",
      "source": [],
      "metadata": {
        "id": "bkpy8jFjuEv5"
      }
    },
    {
      "cell_type": "code",
      "execution_count": null,
      "metadata": {
        "colab": {
          "base_uri": "https://localhost:8080/"
        },
        "id": "Zb2XNZdcvh70",
        "outputId": "48ec6401-c9e8-4b7d-9a98-e4ebab430f28"
      },
      "outputs": [
        {
          "name": "stdout",
          "output_type": "stream",
          "text": [
            "Requirement already satisfied: scipy in /usr/local/lib/python3.10/dist-packages (1.13.1)\n",
            "Requirement already satisfied: numpy<2.3,>=1.22.4 in /usr/local/lib/python3.10/dist-packages (from scipy) (1.26.4)\n",
            "Recommended products for B0B296NTFV: ['B08Y1TFSP6', 'B08Y1TFSP6', 'B08Y1TFSP6', 'B08Y5KXR6Z', 'B0B4T8RSJ1', 'B09YLYB9PB', 'B07W9KYT62', 'B09J2QCKKM', 'B09HV71RL1', 'B0BBW521YC']\n",
            "Recommended products for B01N4EV2TL: ['B09LV1CMGH', 'B09T2WRLJJ', 'B09XB8GFBQ', 'B09XB7DPW1', 'B09XB7SRQ5', 'B07XLCFSSN', 'B07XLCFSSN', 'B07XLCFSSN', 'B0BBVKRP7B', 'B09QS8V5N8']\n",
            "Recommended products for B01M4GGIVU: ['B01M4GGIVU', 'B0B1F6GQPS', 'B08MTCKDYN', 'B08MTCKDYN', 'B0BBW521YC', 'B08W56G1K9', 'B083RCTXLL', 'B07XJWTYM2', 'B07T9FV9YP', 'B07HK53XM4']\n",
            "Recommended products for B01EZ0X3L8: ['B07DC4RZPY', 'B0752LL57V', 'B08TGG316Z', 'B096TWZRJC', 'B09Q8HMKZX', 'B09Q8HMKZX', 'B08MTCKDYN', 'B08MTCKDYN', 'B08461VC1Z', 'B014I8SSD0']\n",
            "Recommended products for B07TR5HSR9: ['B0B7DHSKS7', 'B07JW1Y6XV', 'B07JH1C41D', 'B095PWLLY6', 'B09DSQXCM8', 'B07T9FV9YP', 'B09JS562TP', 'B07KSB1MLX', 'B08XMSKKMM', 'B0B935YNR7']\n",
            "Recommended products for B079Y6JZC8: ['B006LW0WDQ', 'B09CTRPSJR', 'B0BMZ6SY89', 'B08SJVD8QD', 'B00NH12R1O', 'B07J2NGB69', 'B08HVJCW95', 'B08LHTJTBB', 'B00ZYLMQH0', 'B09L8DSSFH']\n",
            "Recommended products for B01N90RZ4M: ['B084MZXJNK', 'B00LHZWD0C', 'B09DDCQFMT', 'B082T6V3DT', 'B082T6GVLJ', 'B082T6GVG9', 'B082T6GXS5', 'B082T6V3DT', 'B082T6V3DT', 'B08XMG618K']\n",
            "Recommended products for B092BJMT8Q: ['B096MSW6CT', 'B07DKZCZ89', 'B08SKZ2RMG', 'B07JPJJZ2H', 'B09QGZM8QB', 'B09QGZFBPM', 'B08WKG2MWT', 'B09474JWN6', 'B08SMJT55F', 'B09T39K9YL']\n",
            "Recommended products for B089WB69Y1: ['B0BMVWKZ8G', 'B09TWH8YHM', 'B0B14MR9L1', 'B08QJJCY2Q', 'B07F1P8KNV', 'B07GVR9TG7', 'B0B5B6PQCT', 'B0B5DDJNH4', 'B0B5D39BCD', 'B0B5CGTBKV']\n",
            "Recommended products for B0B3DV7S9B: ['B08MTCKDYN', 'B08MTCKDYN', 'B0BGSV43WY', 'B0BR4F878Q', 'B009P2LITG', 'B08ZXZ362Z', 'B09BN2NPBD', 'B003L62T7W', 'B097MKZHNV', 'B08KHM9VBJ']\n",
            "Recommended products for B01MF8MB65: ['B09F6VHQXB', 'B0B8ZWNR5T', 'B09VPH38JS', 'B09SPTNG58', 'B088ZFJY82', 'B0085IATT6', 'B09VKWGZD7', 'B07NC12T2R', 'B08BCKN299', 'B08BCKN299']\n",
            "Recommended products for B0B9F9PT8R: ['B00LUGTJGO', 'B00O2R38C4', 'B0B3N8VG24', 'B075ZTJ9XR', 'B0085IATT6', 'B0BGSV43WY', 'B09BN2NPBD', 'B078G6ZF5Z', 'B078G6ZF5Z', 'B01D5H90L4']\n",
            "Recommended products for B081FJWN52: ['B081FG1QYX', 'B08D11DZ2W', 'B09XB8GFBQ', 'B09XB7DPW1', 'B09XB7SRQ5', 'B09DSXK8JX', 'B005FYNT3G', 'B07KRCW6LZ', 'B07KRCW6LZ', 'B07W6VWZ8C']\n",
            "Recommended products for B083J64CBB: ['B0B23LW7NV', 'B07W9KYT62', 'B09MDCZJXS', 'B08GJNM9N7', 'B08LPJZSSW', 'B00K32PEW4', 'B0BHYLCL19', 'B06XDKWLJH', 'B07YC8JHMB', 'B0162K34H2']\n",
            "Recommended products for B09KLVMZ3B: ['B08CF3B7N1', 'B08CF3B7N1', 'B09KLVMZ3B', 'B08CF3B7N1', 'B09KLVMZ3B', 'B07KSMBL2H', 'B07KSMBL2H', 'B083T5G5PM', 'B09SJ1FTYV', 'B07WKB69RS']\n",
            "Recommended products for B01C8P29T4: ['B09Q8HMKZX', 'B09Q8HMKZX', 'B07T9FV9YP', 'B09Q8WQ5QJ', 'B01EZ0X3L8', 'B0765B3TH7', 'B08498H13H', 'B0BCKJJN8R', 'B09J4YQYX3', 'B08Y1TFSP6']\n",
            "Recommended products for B01LYLJ99X: ['B018SJJ0GE', 'B0B4HKH19N', 'B09J2MM5C6', 'B008LN8KDM', 'B08SCCG9D4', 'B09XHXXCFH', 'B094DQWV9B', 'B09MY4W73Q', 'B07N2MGB3G', 'B09NKZXMWJ']\n",
            "Recommended products for B0B3JSWG81: ['B09J4YQYX3', 'B09Q8HMKZX', 'B09Q8HMKZX', 'B0B7DHSKS7', 'B08WKCTFF3', 'B01N1XVVLC', 'B09DSQXCM8', 'B0B5GJRTHB', 'B079S811J3', 'B0B59K1C8F']\n",
            "Recommended products for B0BNQMF152: ['B08TT63N58', 'B07KY3FNQP', 'B07TXCY3YK', 'B09XB1R2F3', 'B07QDSN9V6', 'B088WCFPQF', 'B07CD2BN46', 'B09GFPN6TP', 'B09QGZFBPM', 'B08WKG2MWT']\n",
            "Recommended products for B0BJ6P3LSK: ['B07MSLTW8Z', 'B07QHHCB27', 'B07DXRGWDJ', 'B09MMD1FDN', 'B09GYBZPHF', 'B0BNDGL26T', 'B078JF6X9B', 'B00YMJ0OI8', 'B0B8SSC5D9', 'B096YCN3SD']\n"
          ]
        }
      ],
      "source": [
        "!pip install scipy\n",
        "\n",
        "from scipy.stats import wasserstein_distance\n",
        "from sklearn.metrics.pairwise import cosine_similarity\n",
        "\n",
        "# Get the topic distribution for each product\n",
        "topic_dist = model(X).numpy()\n",
        "df['topic_distribution'] = topic_dist.tolist()\n",
        "\n",
        "# Calculate cosine similarity between products based on topic distributions\n",
        "similarity_matrix = cosine_similarity(topic_dist)\n",
        "\n",
        "def calculate_emd(p1, p2):\n",
        "    distance_matrix = np.zeros((len(p1), len(p2)))\n",
        "    for i in range(len(p1)):\n",
        "        for j in range(len(p2)):\n",
        "            distance_matrix[i][j] = np.abs(i - j)  # Assuming equal distance between topics\n",
        "    return wasserstein_distance(p1, p2) # Use wasserstein_distance for EMD calculation\n",
        "\n",
        "def recommend_products_by_emd(product_id, num_recommendations=5):\n",
        "    product_idx = df[df['product_id'] == product_id].index[0]\n",
        "    topic_dist_product = topic_dist[product_idx]\n",
        "\n",
        "    emd_scores = []\n",
        "    for idx, topic_dist_other in enumerate(topic_dist):\n",
        "        if idx != product_idx:\n",
        "            emd_score = calculate_emd(topic_dist_product, topic_dist_other)\n",
        "            emd_scores.append((df['product_id'].iloc[idx], emd_score))\n",
        "\n",
        "    emd_scores.sort(key=lambda x: x[1])\n",
        "    recommended_products = [item[0] for item in emd_scores[:num_recommendations]]\n",
        "    return recommended_products\n",
        "\n",
        "# Example usage\n",
        "# product_id = df['product_id'].sample(20).iloc[0]\n",
        "# recommendations = recommend_products_by_emd(product_id, num_recommendations=10)\n",
        "# print(f\"Recommended products for {product_id}: {recommendations}\")\n",
        "\n",
        "# change sample size for different number of products\n",
        "product_ids = df['product_id'].sample(20).tolist()\n",
        "\n",
        "# Generate and print recommendations for each product ID\n",
        "for product_id in product_ids:\n",
        "    recommendations_combined = recommend_products_by_emd(product_id, num_recommendations=10)\n",
        "    print(\"Recommended products for {}: {}\".format(product_id, recommendations_combined))\n"
      ]
    },
    {
      "cell_type": "code",
      "execution_count": null,
      "metadata": {
        "colab": {
          "base_uri": "https://localhost:8080/"
        },
        "id": "-IpIkbAswlwe",
        "outputId": "32dc82f3-df0f-42a8-ca21-9f7af7d0773c"
      },
      "outputs": [
        {
          "name": "stdout",
          "output_type": "stream",
          "text": [
            "Learning Rate 0.01, Epoch 1, Loss: 0.6895111799240112\n",
            "Learning Rate 0.01, Epoch 2, Loss: 0.6895111799240112\n",
            "Learning Rate 0.01, Epoch 3, Loss: 0.6895111799240112\n",
            "Learning Rate 0.01, Epoch 4, Loss: 0.6895111799240112\n",
            "Learning Rate 0.01, Epoch 5, Loss: 0.6895111799240112\n",
            "Learning Rate 0.01, Epoch 6, Loss: 0.6895111799240112\n",
            "Learning Rate 0.01, Epoch 7, Loss: 0.6895111799240112\n",
            "Learning Rate 0.01, Epoch 8, Loss: 0.6895111799240112\n",
            "Learning Rate 0.01, Epoch 9, Loss: 0.6895111799240112\n",
            "Learning Rate 0.01, Epoch 10, Loss: 0.6895111799240112\n",
            "Validation Loss: 0.6903830170631409\n",
            "Learning Rate 0.001, Epoch 1, Loss: 0.6895111799240112\n",
            "Learning Rate 0.001, Epoch 2, Loss: 0.6895111799240112\n",
            "Learning Rate 0.001, Epoch 3, Loss: 0.6895111799240112\n",
            "Learning Rate 0.001, Epoch 4, Loss: 0.6895111799240112\n",
            "Learning Rate 0.001, Epoch 5, Loss: 0.6895111799240112\n",
            "Learning Rate 0.001, Epoch 6, Loss: 0.6895111799240112\n",
            "Learning Rate 0.001, Epoch 7, Loss: 0.6895111799240112\n",
            "Learning Rate 0.001, Epoch 8, Loss: 0.6895111799240112\n",
            "Learning Rate 0.001, Epoch 9, Loss: 0.6895111799240112\n",
            "Learning Rate 0.001, Epoch 10, Loss: 0.6895111799240112\n",
            "Validation Loss: 0.6903830170631409\n",
            "Learning Rate 0.0001, Epoch 1, Loss: 0.6895111799240112\n",
            "Learning Rate 0.0001, Epoch 2, Loss: 0.6895111799240112\n",
            "Learning Rate 0.0001, Epoch 3, Loss: 0.6895111799240112\n",
            "Learning Rate 0.0001, Epoch 4, Loss: 0.6895111799240112\n",
            "Learning Rate 0.0001, Epoch 5, Loss: 0.6895111799240112\n",
            "Learning Rate 0.0001, Epoch 6, Loss: 0.6895111799240112\n",
            "Learning Rate 0.0001, Epoch 7, Loss: 0.6895111799240112\n",
            "Learning Rate 0.0001, Epoch 8, Loss: 0.6895111799240112\n",
            "Learning Rate 0.0001, Epoch 9, Loss: 0.6895111799240112\n",
            "Learning Rate 0.0001, Epoch 10, Loss: 0.6895111799240112\n",
            "Validation Loss: 0.6903830170631409\n"
          ]
        }
      ],
      "source": [
        "learning_rates = [0.01, 0.001, 0.0001]\n",
        "num_epochs = 10\n",
        "batch_size = 64\n",
        "\n",
        "# Define optimizer outside the loop\n",
        "optimizer = tf.keras.optimizers.Adam()  # Initialize with default learning rate\n",
        "\n",
        "for lr in learning_rates:\n",
        "    optimizer.learning_rate = lr  # Set learning rate for the optimizer\n",
        "    for epoch in range(num_epochs):\n",
        "        for i in range(0, X_train.shape[0], batch_size):\n",
        "            X_batch = X_train[i:i + batch_size]\n",
        "            loss = train_step(model, X_batch, optimizer)\n",
        "        print(f'Learning Rate {lr}, Epoch {epoch + 1}, Loss: {loss.numpy()}')\n",
        "\n",
        "    # Evaluate on validation set\n",
        "    val_loss = loss_fn(model, X_val)\n",
        "    print(f'Validation Loss: {val_loss.numpy()}')"
      ]
    },
    {
      "cell_type": "code",
      "execution_count": null,
      "metadata": {
        "colab": {
          "base_uri": "https://localhost:8080/"
        },
        "id": "NPYGbvoPxeYw",
        "outputId": "15cc9454-0dbf-4c5d-a9cc-8e4d77bec8c1"
      },
      "outputs": [
        {
          "name": "stdout",
          "output_type": "stream",
          "text": [
            "Confusion Matrix:\n",
            " [[    1    99]\n",
            " [   19 29181]]\n",
            "Precision: 0.0100\n",
            "Recall: 0.0500\n",
            "F1 Score: 0.0167\n",
            "Accuracy: 0.9960\n"
          ]
        }
      ],
      "source": [
        "\n",
        "import numpy as np\n",
        "import pandas as pd\n",
        "from sklearn.metrics import confusion_matrix, precision_score, recall_score, f1_score, accuracy_score\n",
        "\n",
        "# Simulated ground truth data (actual relevant products)\n",
        "actual_products = df.sample(100)['product_id'].tolist()\n",
        "\n",
        "# Generate recommendations using the fine-tuned model\n",
        "def recommend_products_by_emd(product_id, num_recommendations=5):\n",
        "    product_idx = df[df['product_id'] == product_id].index[0]\n",
        "    topic_dist_product = topic_dist[product_idx]\n",
        "\n",
        "    emd_scores = []\n",
        "    for idx, topic_dist_other in enumerate(topic_dist):\n",
        "        if idx != product_idx:\n",
        "            emd_score = calculate_emd(topic_dist_product, topic_dist_other)\n",
        "            emd_scores.append((df['product_id'].iloc[idx], emd_score))\n",
        "\n",
        "    emd_scores.sort(key=lambda x: x[1])\n",
        "    recommended_products = [item[0] for item in emd_scores[:num_recommendations]]\n",
        "    return recommended_products\n",
        "\n",
        "# Generate recommendations for a set of product IDs\n",
        "product_ids = df['product_id'].sample(20).tolist()\n",
        "recommendations = {pid: recommend_products_by_emd(pid, num_recommendations=5) for pid in product_ids}\n",
        "\n",
        "# Create a binary confusion matrix based on recommendations\n",
        "def create_confusion_matrix(actual, recommended):\n",
        "    actual_set = set(actual)\n",
        "    recommended_set = set(recommended)\n",
        "    tp = len(actual_set & recommended_set)\n",
        "    fp = len(recommended_set - actual_set)\n",
        "    fn = len(actual_set - recommended_set)\n",
        "    tn = len(df) - tp - fp - fn\n",
        "    return np.array([[tp, fp], [fn, tn]])\n",
        "\n",
        "# Create and evaluate confusion matrices for each product\n",
        "confusion_matrices = []\n",
        "for product_id in product_ids:\n",
        "    actual = df[df['product_id'] == product_id]['product_id'].tolist()\n",
        "    recommended = recommendations[product_id]\n",
        "    cm = create_confusion_matrix(actual, recommended)\n",
        "    confusion_matrices.append(cm)\n",
        "\n",
        "# Aggregate confusion matrices\n",
        "aggregated_cm = np.sum(confusion_matrices, axis=0)\n",
        "\n",
        "# Print confusion matrix and metrics\n",
        "print(\"Confusion Matrix:\\n\", aggregated_cm)\n",
        "\n",
        "tp, fp, fn, tn = aggregated_cm.ravel()\n",
        "precision = tp / (tp + fp)\n",
        "recall = tp / (tp + fn)\n",
        "f1 = 2 * (precision * recall) / (precision + recall)\n",
        "accuracy = (tp + tn) / (tp + fp + fn + tn)\n",
        "\n",
        "print(f\"Precision: {precision:.4f}\")\n",
        "print(f\"Recall: {recall:.4f}\")\n",
        "print(f\"F1 Score: {f1:.4f}\")\n",
        "print(f\"Accuracy: {accuracy:.4f}\")\n",
        "\n",
        "# for value of recall"
      ]
    },
    {
      "cell_type": "code",
      "execution_count": null,
      "metadata": {
        "colab": {
          "base_uri": "https://localhost:8080/"
        },
        "id": "iGDfkPJyxiXB",
        "outputId": "b350b156-84d9-45cc-b3c1-55efac152f59"
      },
      "outputs": [
        {
          "name": "stdout",
          "output_type": "stream",
          "text": [
            "Overall NDCG: 0.0996\n"
          ]
        }
      ],
      "source": [
        "import numpy as np\n",
        "\n",
        "# Function to calculate DCG\n",
        "def dcg(relevance_scores):\n",
        "    return np.sum(relevance_scores / np.log2(np.arange(2, relevance_scores.size + 2)))\n",
        "\n",
        "# Function to calculate NDCG\n",
        "def ndcg(actual, predicted, k):\n",
        "    relevance_scores = np.isin(predicted[:k], actual).astype(int)\n",
        "    idcg = dcg(np.ones(len(actual)))  # Ideal DCG\n",
        "    return dcg(relevance_scores) / idcg if idcg > 0 else 0\n",
        "\n",
        "# Simulated ground truth data (actual relevant products)\n",
        "actual_products = df.sample(100)['product_id'].tolist()\n",
        "\n",
        "# Generate recommendations for a set of product IDs\n",
        "product_ids = df['product_id'].sample(20).tolist()\n",
        "recommendations = {pid: recommend_products_by_emd(pid, num_recommendations=10) for pid in product_ids}\n",
        "\n",
        "# Evaluate NDCG for all products and print the overall result\n",
        "all_ndcg_scores = []\n",
        "\n",
        "for product_id in product_ids:\n",
        "    actual = df[df['product_id'] == product_id]['product_id'].tolist()\n",
        "    recommended = recommendations[product_id]\n",
        "\n",
        "    ndcg_score = ndcg(actual, recommended, k=10)\n",
        "    all_ndcg_scores.append(ndcg_score)\n",
        "\n",
        "# Calculate the overall NDCG score\n",
        "overall_ndcg = np.mean(all_ndcg_scores)\n",
        "print(f\"Overall NDCG: {overall_ndcg:.4f}\")\n",
        "\n",
        "#for value of ndcg\n"
      ]
    },
    {
      "cell_type": "code",
      "execution_count": null,
      "metadata": {
        "colab": {
          "background_save": true,
          "base_uri": "https://localhost:8080/"
        },
        "id": "UD9fhEIexleF",
        "outputId": "8a973781-6f01-4bb7-8c1a-58c5308b2d9d"
      },
      "outputs": [
        {
          "name": "stdout",
          "output_type": "stream",
          "text": [
            "\n",
            "Training with learning rate: 0.01\n",
            "Learning Rate 0.01, Epoch 1, Train Loss: 0.7171230511453778, Val Loss: 0.6903830170631409\n",
            "Learning Rate 0.01, Epoch 2, Train Loss: 0.7171230511453778, Val Loss: 0.6903830170631409\n",
            "Learning Rate 0.01, Epoch 3, Train Loss: 0.7171230511453778, Val Loss: 0.6903830170631409\n",
            "Learning Rate 0.01, Epoch 4, Train Loss: 0.7171230511453778, Val Loss: 0.6903830170631409\n",
            "Learning Rate 0.01, Epoch 5, Train Loss: 0.7171230511453778, Val Loss: 0.6903830170631409\n",
            "Learning Rate 0.01, Epoch 6, Train Loss: 0.7171230511453778, Val Loss: 0.6903830170631409\n",
            "Learning Rate 0.01, Epoch 7, Train Loss: 0.7171230511453778, Val Loss: 0.6903830170631409\n",
            "Learning Rate 0.01, Epoch 8, Train Loss: 0.7171230511453778, Val Loss: 0.6903830170631409\n",
            "Learning Rate 0.01, Epoch 9, Train Loss: 0.7171230511453778, Val Loss: 0.6903830170631409\n",
            "Learning Rate 0.01, Epoch 10, Train Loss: 0.7171230511453778, Val Loss: 0.6903830170631409\n",
            "\n",
            "Training with learning rate: 0.001\n",
            "Learning Rate 0.001, Epoch 1, Train Loss: 0.7171230511453778, Val Loss: 0.6903830170631409\n",
            "Learning Rate 0.001, Epoch 2, Train Loss: 0.7171230511453778, Val Loss: 0.6903830170631409\n",
            "Learning Rate 0.001, Epoch 3, Train Loss: 0.7171230511453778, Val Loss: 0.6903830170631409\n",
            "Learning Rate 0.001, Epoch 4, Train Loss: 0.7171230511453778, Val Loss: 0.6903830170631409\n",
            "Learning Rate 0.001, Epoch 5, Train Loss: 0.7171230511453778, Val Loss: 0.6903830170631409\n",
            "Learning Rate 0.001, Epoch 6, Train Loss: 0.7171230511453778, Val Loss: 0.6903830170631409\n",
            "Learning Rate 0.001, Epoch 7, Train Loss: 0.7171230511453778, Val Loss: 0.6903830170631409\n",
            "Learning Rate 0.001, Epoch 8, Train Loss: 0.7171230511453778, Val Loss: 0.6903830170631409\n",
            "Learning Rate 0.001, Epoch 9, Train Loss: 0.7171230511453778, Val Loss: 0.6903830170631409\n",
            "Learning Rate 0.001, Epoch 10, Train Loss: 0.7171230511453778, Val Loss: 0.6903830170631409\n",
            "\n",
            "Training with learning rate: 0.0001\n",
            "Learning Rate 0.0001, Epoch 1, Train Loss: 0.7171230511453778, Val Loss: 0.6903830170631409\n",
            "Learning Rate 0.0001, Epoch 2, Train Loss: 0.7171230511453778, Val Loss: 0.6903830170631409\n",
            "Learning Rate 0.0001, Epoch 3, Train Loss: 0.7171230511453778, Val Loss: 0.6903830170631409\n",
            "Learning Rate 0.0001, Epoch 4, Train Loss: 0.7171230511453778, Val Loss: 0.6903830170631409\n",
            "Learning Rate 0.0001, Epoch 5, Train Loss: 0.7171230511453778, Val Loss: 0.6903830170631409\n",
            "Learning Rate 0.0001, Epoch 6, Train Loss: 0.7171230511453778, Val Loss: 0.6903830170631409\n",
            "Learning Rate 0.0001, Epoch 7, Train Loss: 0.7171230511453778, Val Loss: 0.6903830170631409\n",
            "Learning Rate 0.0001, Epoch 8, Train Loss: 0.7171230511453778, Val Loss: 0.6903830170631409\n",
            "Learning Rate 0.0001, Epoch 9, Train Loss: 0.7171230511453778, Val Loss: 0.6903830170631409\n",
            "Learning Rate 0.0001, Epoch 10, Train Loss: 0.7171230511453778, Val Loss: 0.6903830170631409\n"
          ]
        },
        {
          "data": {
            "image/png": "[encoded data removed]",
            "text/plain": [
              "<Figure size 1200x600 with 1 Axes>"
            ]
          },
          "metadata": {},
          "output_type": "display_data"
        }
      ],
      "source": [
        "import matplotlib.pyplot as plt\n",
        "\n",
        "# Track the loss values\n",
        "train_losses = []\n",
        "val_losses = []\n",
        "\n",
        "def train_model(learning_rate):\n",
        "    optimizer = tf.keras.optimizers.Adam(learning_rate=learning_rate)\n",
        "    for epoch in range(num_epochs):\n",
        "        epoch_train_loss = 0\n",
        "        for i in range(0, X_train.shape[0], batch_size):\n",
        "            X_batch = X_train[i:i + batch_size]\n",
        "            loss = train_step(model, X_batch, optimizer)\n",
        "            epoch_train_loss += loss.numpy()\n",
        "\n",
        "        # Average training loss for the epoch\n",
        "        train_losses.append(epoch_train_loss / (X_train.shape[0] / batch_size))\n",
        "\n",
        "        # Evaluate on validation set\n",
        "        val_loss = loss_fn(model, X_val)\n",
        "        val_losses.append(val_loss.numpy())\n",
        "\n",
        "        print(f'Learning Rate {learning_rate}, Epoch {epoch + 1}, Train Loss: {train_losses[-1]}, Val Loss: {val_loss.numpy()}')\n",
        "\n",
        "    return val_losses[-1]\n",
        "\n",
        "# Train with different learning rates and store validation losses\n",
        "for lr in learning_rates:\n",
        "    print(f\"\\nTraining with learning rate: {lr}\")\n",
        "    train_model(lr)\n",
        "\n",
        "# Plot loss curves\n",
        "plt.figure(figsize=(12, 6))\n",
        "plt.plot(train_losses, label='Training Loss')\n",
        "plt.plot(val_losses, label='Validation Loss')\n",
        "plt.xlabel('Epochs')\n",
        "plt.ylabel('Loss')\n",
        "plt.title('Training and Validation Loss Curves')\n",
        "plt.legend()\n",
        "plt.show()\n"
      ]
    },
    {
      "cell_type": "code",
      "execution_count": null,
      "metadata": {
        "colab": {
          "background_save": true
        },
        "id": "U-J64kUWxsdK"
      },
      "outputs": [],
      "source": [
        "class LDA(tf.keras.Model):\n",
        "    def __init__(self, num_topics, vocab_size, num_layers=1):\n",
        "        super(LDA, self).__init__()\n",
        "        self.num_topics = num_topics\n",
        "        self.vocab_size = vocab_size\n",
        "        self.num_layers = num_layers\n",
        "        self.layers_list = []\n",
        "        for _ in range(num_layers):\n",
        "            self.layers_list.append(tf.keras.layers.Dense(vocab_size, activation='relu'))\n",
        "        self.output_layer = tf.keras.layers.Dense(num_topics, activation='softmax')\n",
        "        # Initialize topic_word_dist here.  Adjust shape and initialization as needed.\n",
        "        self.topic_word_dist = tf.Variable(tf.random.normal((num_topics, vocab_size)))\n",
        "\n",
        "    def call(self, inputs):\n",
        "        x = inputs\n",
        "        for layer in self.layers_list:\n",
        "            x = layer(x)\n",
        "        return self.output_layer(x)"
      ]
    },
    {
      "cell_type": "code",
      "execution_count": null,
      "metadata": {
        "colab": {
          "background_save": true
        },
        "id": "5OEXtHmQxvse"
      },
      "outputs": [],
      "source": [
        "import matplotlib.pyplot as plt\n",
        "import numpy as np  # Import numpy for calculations\n",
        "\n",
        "# Track the loss values\n",
        "train_losses = []\n",
        "val_losses = []\n",
        "\n",
        "# Define the train_and_evaluate function before it's called\n",
        "def train_and_evaluate(model, X_train, X_val, num_epochs, batch_size):\n",
        "    optimizer = tf.keras.optimizers.Adam(learning_rate=0.001)\n",
        "    for epoch in range(num_epochs):\n",
        "        for i in range(0, X_train.shape[0], batch_size):\n",
        "            X_batch = X_train[i:i + batch_size]\n",
        "            train_step(model, X_batch, optimizer)\n",
        "\n",
        "    # Implement or import calculate_recall_at_k and calculate_ndcg_at_k\n",
        "    val_recall = calculate_recall_at_k(X_val, model, k=20)\n",
        "    val_ndcg = calculate_ndcg_at_k(X_val, model, k=10)\n",
        "    return val_recall, val_ndcg\n",
        "\n",
        "# Example implementation of calculate_recall_at_k (needs to be adapted to your specific model)\n",
        "def calculate_recall_at_k(X_val, model, k):\n",
        "    # Logic to generate predictions from your model\n",
        "    # ...\n",
        "    # Calculate recall at k\n",
        "    # ...\n",
        "    return recall\n",
        "\n",
        "# Example implementation of calculate_ndcg_at_k (needs to be adapted to your specific model)\n",
        "def calculate_ndcg_at_k(X_val, model, k):\n",
        "    # Logic to generate predictions from your model\n",
        "    # ...\n",
        "    # Calculate NDCG at k\n",
        "    # ...\n",
        "    return ndcg\n",
        "\n",
        "recall_at_20 = []\n",
        "ndcg_at_10 = []\n",
        "\n",
        "num_layers_list = [1, 2, 3, 4, 5]  # Example number of layers\n",
        "\n",
        "for num_layers in num_layers_list:\n",
        "    model = LDA(num_topics, vocab_size, num_layers=num_layers)\n",
        "    val_recall, val_ndcg = train_and_evaluate(model, X_train, X_val, num_epochs, batch_size)\n",
        "    recall_at_20.append(val_recall)\n",
        "    ndcg_at_10.append(val_ndcg)"
      ]
    },
    {
      "cell_type": "code",
      "execution_count": null,
      "metadata": {
        "colab": {
          "background_save": true
        },
        "id": "Aztsqdu_x4aM",
        "outputId": "2394c04d-0db4-4b82-aa22-7d4b374522ce"
      },
      "outputs": [
        {
          "data": {
            "image/png": "[encoded data removed]",
            "text/plain": [
              "<Figure size 640x480 with 1 Axes>"
            ]
          },
          "metadata": {},
          "output_type": "display_data"
        }
      ],
      "source": [
        "import matplotlib.pyplot as plt\n",
        "\n",
        "# Sample data\n",
        "num_layers_list = [1, 2, 3, 4, 5]\n",
        "recall_at_20 = [0.1, 0.15, 0.2, 0.18, 0.22]  # Replace with actual values\n",
        "ndcg_at_10 = [0.3, 0.35, 0.4, 0.38, 0.42]   # Replace with actual values\n",
        "\n",
        "x = np.arange(len(num_layers_list))  # the label locations\n",
        "width = 0.35  # the width of the bars\n",
        "\n",
        "fig, ax = plt.subplots()\n",
        "rects1 = ax.bar(x - width/2, recall_at_20, width, label='Recall@20')\n",
        "rects2 = ax.bar(x + width/2, ndcg_at_10, width, label='NDCG@10')\n",
        "\n",
        "# Add some text for labels, title and custom x-axis tick labels, etc.\n",
        "ax.set_xlabel('Number of Layers')\n",
        "ax.set_ylabel('Scores')\n",
        "ax.set_title('Recall@20 and NDCG@10 vs Number of Layers')\n",
        "ax.set_xticks(x)\n",
        "ax.set_xticklabels(num_layers_list)\n",
        "ax.legend()\n",
        "\n",
        "fig.tight_layout()\n",
        "\n",
        "plt.show()\n"
      ]
    },
    {
      "cell_type": "code",
      "execution_count": null,
      "metadata": {
        "id": "T08-0pijy60D"
      },
      "outputs": [],
      "source": []
    }
  ],
  "metadata": {
    "colab": {
      "provenance": [],
      "authorship_tag": "ABX9TyNxzthFlDjeguZ9rQYEi59N",
      "include_colab_link": true
    },
    "kernelspec": {
      "display_name": "Python 3",
      "name": "python3"
    },
    "language_info": {
      "name": "python"
    }
  },
  "nbformat": 4,
  "nbformat_minor": 0
}
